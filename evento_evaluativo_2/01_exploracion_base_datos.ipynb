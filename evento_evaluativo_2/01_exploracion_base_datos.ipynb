{
 "cells": [
  {
   "cell_type": "code",
   "execution_count": 1,
   "id": "0e5b8d79",
   "metadata": {},
   "outputs": [],
   "source": [
    "import pandas as pd\n",
    "import numpy as np\n",
    "import matplotlib.pyplot as plt\n",
    "import seaborn as sns\n",
    "import os\n",
    "import openpyxl"
   ]
  },
  {
   "cell_type": "markdown",
   "id": "bca4ab66",
   "metadata": {},
   "source": [
    "# Exploracion Bases De Datos\n",
    "\n",
    "## Cats - Dogs (Audios)\n",
    "- **Fuente**: [Audio Cats and Dogs - Kaggle](https://www.kaggle.com/datasets/mmoreaux/audio-cats-and-dogs)\n",
    "- **Tipo De Datos**: Esta es una base de datos **secundaria**, ya que la información fue recopilada por otras personas. Se trata de datos de acceso público que no fueron recolectados específicamente con el propósito de realizar un análisis.\n",
    "    - Los datos costan de audios de gatos y perros en formato .wav de 16KHz, duracion variable y peso variable.\n",
    "\n",
    "A continuacion el calculo de las caracteristicas basicas.\n"
   ]
  },
  {
   "cell_type": "code",
   "execution_count": 2,
   "id": "c700aabe",
   "metadata": {},
   "outputs": [
    {
     "name": "stdout",
     "output_type": "stream",
     "text": [
      "Cantidad total de archivos: 277\n",
      "Cantidad de archivos para 'cat': 164\n",
      "Cantidad de archivos para 'dog': 113\n"
     ]
    }
   ],
   "source": [
    "# Ruta de la carpeta\n",
    "folder_path = \"cats_dogs\"\n",
    "\n",
    "# Listas para almacenar los nombres de los archivos\n",
    "all_files = []\n",
    "cat_files = []\n",
    "dog_files = []\n",
    "\n",
    "# Recorremos todos los archivos de la carpeta\n",
    "for file in os.listdir(folder_path):\n",
    "    if os.path.isfile(os.path.join(folder_path, file)):  # verificamos que sea un archivo\n",
    "        all_files.append(file)\n",
    "        if \"cat\" in file.lower():   # buscar 'cat' sin importar mayúsculas\n",
    "            cat_files.append(file)\n",
    "        elif \"dog\" in file.lower(): # buscar 'dog' sin importar mayúsculas\n",
    "            dog_files.append(file)\n",
    "\n",
    "# Resultados\n",
    "print(\"Cantidad total de archivos:\", len(all_files))\n",
    "print(\"Cantidad de archivos para 'cat':\", len(cat_files))\n",
    "print(\"Cantidad de archivos para 'dog':\", len(dog_files))\n"
   ]
  },
  {
   "cell_type": "markdown",
   "id": "ba0cea0c",
   "metadata": {},
   "source": [
    "- **Caracteristicas Basicas**\n",
    "    - Cantidad **total** de archivos: 277\n",
    "    - Cantidad de archivos para **'cat'**: 164\n",
    "    - Cantidad de archivos para **'dog'**: 113\n",
    "- **Posibles Aplicaciones**: Clasificación de sonidos, Reconocimiento de animales en ambientes reales, Detección temprana en dispositivos IoT (ej. Alexa)\n"
   ]
  },
  {
   "cell_type": "markdown",
   "id": "bdaffc98",
   "metadata": {},
   "source": [
    "# Rayos X Neumonia (Imagenes)\n",
    "\n",
    "- **Fuente**: [Chest X-Ray Images (Pneumonia) - Kaggle](https://www.kaggle.com/code/shyambv/starter-chest-x-ray-images-pneumonia-0f43d8bd-7)\n",
    "- **Tipo De Datos**: Esta es una base de datos **secundaria**, ya que la información fue recopilada por otras personas. Se trata de datos de acceso público que no fueron recolectados específicamente con el propósito de realizar un análisis.\n",
    "    - Los datos costan de imagenes de rayos x de personas con y sin neumonia, el formato de las imagenes es jpeg, con dimensiones variables y peso variable.\n",
    "\n",
    "A continuacion el calculo de las caracteristicas basicas."
   ]
  },
  {
   "cell_type": "code",
   "execution_count": 3,
   "id": "502e2345",
   "metadata": {},
   "outputs": [
    {
     "name": "stdout",
     "output_type": "stream",
     "text": [
      "Cantidad total de imágenes: 5216\n",
      "Cantidad de imágenes de personas NORMAL: 1341\n",
      "Cantidad de imágenes de personas con PNEUMONIA: 3875\n"
     ]
    }
   ],
   "source": [
    "# Rutas de las carpetas\n",
    "train_path = \"chest_xray/train\"\n",
    "normal_path = os.path.join(train_path, \"NORMAL\")\n",
    "pneumonia_path = os.path.join(train_path, \"PNEUMONIA\")\n",
    "\n",
    "# Función para contar imágenes en una carpeta\n",
    "def contar_imagenes(carpeta):\n",
    "    return len([f for f in os.listdir(carpeta) if os.path.isfile(os.path.join(carpeta, f))])\n",
    "\n",
    "# Contar imágenes\n",
    "normal_count = contar_imagenes(normal_path)\n",
    "pneumonia_count = contar_imagenes(pneumonia_path)\n",
    "\n",
    "# Resultados\n",
    "print(\"Cantidad total de imágenes:\", normal_count + pneumonia_count)\n",
    "print(\"Cantidad de imágenes de personas NORMAL:\", normal_count)\n",
    "print(\"Cantidad de imágenes de personas con PNEUMONIA:\", pneumonia_count)"
   ]
  },
  {
   "cell_type": "markdown",
   "id": "8c80b6aa",
   "metadata": {},
   "source": [
    "- **Caracteristicas Basicas**\n",
    "    - Cantidad total de imágenes: 5216\n",
    "    - Cantidad de imágenes de personas **NORMAL**: 1341\n",
    "    - Cantidad de imágenes de personas con **PNEUMONIA**: 3875\n",
    "- **Posibles Aplicaciones**: Diagnóstico asistido por IA, Detección temprana y triage, Educación médica"
   ]
  },
  {
   "cell_type": "markdown",
   "id": "d8ee0b6d",
   "metadata": {},
   "source": [
    "## Prediccion De Ingresos\n",
    "\n",
    "- **Fuente**: [Adult Income Prediction Dataset - Kaggle](https://www.kaggle.com/datasets/mosapabdelghany/adult-income-prediction-dataset)\n",
    "- **Tipo De Datos**: Esta es una base de datos **secundaria**, ya que la información fue recopilada por otras personas. Se trata de datos de acceso público que fueron recolectados específicamente con el propósito de realizar un análisis estadistico o censal.\n",
    "    - Los datos costan de una tabla con informacion sobre personas y sus ingresos.\n",
    "- **Posibles Aplicaciones**: Detección de sesgos, Estudios sociodemográficos, Análisis de desigualdad.\n",
    "\n",
    "A continuacion el calculo de las caracteristicas basicas."
   ]
  },
  {
   "cell_type": "code",
   "execution_count": 4,
   "id": "2054f8fe",
   "metadata": {},
   "outputs": [],
   "source": [
    "# --- Función para mostrar resumen de datos de DataFrames ---\n",
    "def resumen(nombre, df):\n",
    "    print(f\"\\n===== {nombre} =====\")\n",
    "    print(f\"Cantidad de filas: {df.shape[0]}\")\n",
    "    print(f\"Cantidad de columnas: {df.shape[1]}\")\n",
    "    print(\"\\nTipos de datos por columna:\")\n",
    "    print(df.dtypes)\n",
    "    print(\"\\n--- Primeras filas ---\")\n",
    "    print(df.head())"
   ]
  },
  {
   "cell_type": "code",
   "execution_count": 5,
   "id": "0e572308",
   "metadata": {},
   "outputs": [
    {
     "name": "stdout",
     "output_type": "stream",
     "text": [
      "\n",
      "===== Ingresos De Adultos =====\n",
      "Cantidad de filas: 32562\n",
      "Cantidad de columnas: 15\n",
      "\n",
      "Tipos de datos por columna:\n",
      "age               object\n",
      "workclass         object\n",
      "fnlwgt            object\n",
      "education         object\n",
      "education-num     object\n",
      "marital-status    object\n",
      "occupation        object\n",
      "relationship      object\n",
      "race              object\n",
      "sex               object\n",
      "capital-gain      object\n",
      "capital-loss      object\n",
      "hours-per-week    object\n",
      "native-country    object\n",
      "income            object\n",
      "dtype: object\n",
      "\n",
      "--- Primeras filas ---\n",
      "   age  workclass  fnlwgt     education  education-num  marital-status  \\\n",
      "0  age  workclass  fnlwgt     education  education.num  marital.status   \n",
      "1   90          ?   77053       HS-grad              9         Widowed   \n",
      "2   82    Private  132870       HS-grad              9         Widowed   \n",
      "3   66          ?  186061  Some-college             10         Widowed   \n",
      "4   54    Private  140359       7th-8th              4        Divorced   \n",
      "\n",
      "          occupation   relationship   race     sex  capital-gain  \\\n",
      "0         occupation   relationship   race     sex  capital.gain   \n",
      "1                  ?  Not-in-family  White  Female             0   \n",
      "2    Exec-managerial  Not-in-family  White  Female             0   \n",
      "3                  ?      Unmarried  Black  Female             0   \n",
      "4  Machine-op-inspct      Unmarried  White  Female             0   \n",
      "\n",
      "   capital-loss  hours-per-week  native-country  income  \n",
      "0  capital.loss  hours.per.week  native.country  income  \n",
      "1          4356              40   United-States   <=50K  \n",
      "2          4356              18   United-States   <=50K  \n",
      "3          4356              40   United-States   <=50K  \n",
      "4          3900              40   United-States   <=50K  \n"
     ]
    }
   ],
   "source": [
    "\n",
    "# Los nombres de las columnas según la documentación del dataset\n",
    "column_names = ['age', 'workclass', 'fnlwgt', 'education', 'education-num', 'marital-status', 'occupation', 'relationship', 'race', 'sex', 'capital-gain', 'capital-loss', 'hours-per-week', 'native-country', 'income']\n",
    "\n",
    "df_adult = pd.read_csv('./income/adult.csv', header=None, names=column_names, skipinitialspace=True)\n",
    "\n",
    "resumen(\"Ingresos De Adultos\", df_adult)"
   ]
  }
 ],
 "metadata": {
  "kernelspec": {
   "display_name": ".venv",
   "language": "python",
   "name": "python3"
  },
  "language_info": {
   "codemirror_mode": {
    "name": "ipython",
    "version": 3
   },
   "file_extension": ".py",
   "mimetype": "text/x-python",
   "name": "python",
   "nbconvert_exporter": "python",
   "pygments_lexer": "ipython3",
   "version": "3.12.2"
  }
 },
 "nbformat": 4,
 "nbformat_minor": 5
}
